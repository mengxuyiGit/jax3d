{
 "cells": [
  {
   "cell_type": "code",
   "execution_count": 47,
   "metadata": {},
   "outputs": [],
   "source": [
    "import numpy as np\n",
    "import cv2\n",
    "import torch\n",
    "import torch.utils.data\n",
    "import os\n",
    "import pickle\n",
    "import json"
   ]
  },
  {
   "cell_type": "code",
   "execution_count": 49,
   "metadata": {},
   "outputs": [
    {
     "ename": "FileNotFoundError",
     "evalue": "[Errno 2] No such file or directory: '/home/xymeng/Repo/jax3d/jax3d/projects/mobilenerf/get_rays/rays_inverse_false.json'",
     "output_type": "error",
     "traceback": [
      "\u001b[0;31m---------------------------------------------------------------------------\u001b[0m",
      "\u001b[0;31mFileNotFoundError\u001b[0m                         Traceback (most recent call last)",
      "Cell \u001b[0;32mIn [49], line 2\u001b[0m\n\u001b[1;32m      1\u001b[0m tsfm_path \u001b[39m=\u001b[39m \u001b[39m'\u001b[39m\u001b[39m/home/xymeng/Repo/jax3d/jax3d/projects/mobilenerf/get_rays/rays_inverse_false.json\u001b[39m\u001b[39m'\u001b[39m\n\u001b[0;32m----> 2\u001b[0m \u001b[39mwith\u001b[39;00m \u001b[39mopen\u001b[39;49m(tsfm_path, \u001b[39m'\u001b[39;49m\u001b[39mr\u001b[39;49m\u001b[39m'\u001b[39;49m) \u001b[39mas\u001b[39;00m jf:\n\u001b[1;32m      3\u001b[0m     data_inv_f \u001b[39m=\u001b[39m json\u001b[39m.\u001b[39mload(jf)\n\u001b[1;32m      5\u001b[0m tsfm_path_t \u001b[39m=\u001b[39m \u001b[39m'\u001b[39m\u001b[39m/home/xymeng/Repo/jax3d/jax3d/projects/mobilenerf/get_rays/rays_inverse_true.json\u001b[39m\u001b[39m'\u001b[39m\n",
      "\u001b[0;31mFileNotFoundError\u001b[0m: [Errno 2] No such file or directory: '/home/xymeng/Repo/jax3d/jax3d/projects/mobilenerf/get_rays/rays_inverse_false.json'"
     ]
    }
   ],
   "source": [
    "tsfm_path = '/home/xymeng/Repo/jax3d/jax3d/projects/mobilenerf/get_rays/rays_inverse_false.json'\n",
    "with open(tsfm_path, 'r') as jf:\n",
    "    data_inv_f = json.load(jf)\n",
    "\n",
    "tsfm_path_t = '/home/xymeng/Repo/jax3d/jax3d/projects/mobilenerf/get_rays/rays_inverse_true.json'\n",
    "with open(tsfm_path_t, 'r') as jft:\n",
    "    data_inv_t = json.load(jft)"
   ]
  },
  {
   "cell_type": "code",
   "execution_count": 3,
   "metadata": {},
   "outputs": [],
   "source": [
    "data_inv_f = torch.tensor(data_inv_f)"
   ]
  },
  {
   "cell_type": "code",
   "execution_count": 4,
   "metadata": {},
   "outputs": [
    {
     "data": {
      "text/plain": [
       "torch.Size([512, 512, 3, 1])"
      ]
     },
     "execution_count": 4,
     "metadata": {},
     "output_type": "execute_result"
    }
   ],
   "source": [
    "data_inv_f.shape"
   ]
  },
  {
   "cell_type": "code",
   "execution_count": 5,
   "metadata": {},
   "outputs": [
    {
     "data": {
      "text/plain": [
       "torch.Size([512, 512, 3, 1])"
      ]
     },
     "execution_count": 5,
     "metadata": {},
     "output_type": "execute_result"
    }
   ],
   "source": [
    "data_inv_t = torch.tensor(data_inv_t)\n",
    "data_inv_t.shape"
   ]
  },
  {
   "cell_type": "code",
   "execution_count": 6,
   "metadata": {},
   "outputs": [
    {
     "data": {
      "text/plain": [
       "tensor([True])"
      ]
     },
     "execution_count": 6,
     "metadata": {},
     "output_type": "execute_result"
    }
   ],
   "source": [
    "torch.unique(data_inv_f[...,0,:]==data_inv_t[...,0,:])"
   ]
  },
  {
   "cell_type": "code",
   "execution_count": 12,
   "metadata": {},
   "outputs": [
    {
     "data": {
      "text/plain": [
       "tensor([0., 1.])"
      ]
     },
     "execution_count": 12,
     "metadata": {},
     "output_type": "execute_result"
    }
   ],
   "source": [
    "torch.unique(data_inv_f[...,1:,:]+data_inv_t[...,1:,:])"
   ]
  },
  {
   "cell_type": "code",
   "execution_count": 14,
   "metadata": {},
   "outputs": [
    {
     "data": {
      "text/plain": [
       "(torch.Size([512, 512, 2, 1]), torch.Size([512, 512, 2, 1]))"
      ]
     },
     "execution_count": 14,
     "metadata": {},
     "output_type": "execute_result"
    }
   ],
   "source": [
    "data_inv_f[...,1:,:].shape, data_inv_t[...,1:,:].shape"
   ]
  },
  {
   "cell_type": "code",
   "execution_count": 24,
   "metadata": {},
   "outputs": [
    {
     "data": {
      "text/plain": [
       "(tensor(128.5000),)"
      ]
     },
     "execution_count": 24,
     "metadata": {},
     "output_type": "execute_result"
    }
   ],
   "source": [
    "abs(data_inv_f[...,1:,:]).mean(), # data_inv_t[...,1:,:]\n",
    "# (data_inv_f[...,2:3,:]+data_inv_t[...,2:3,:]).sum()"
   ]
  },
  {
   "cell_type": "code",
   "execution_count": 82,
   "metadata": {},
   "outputs": [
    {
     "data": {
      "text/plain": [
       "(array([[ 0.00186171,  0.        , -0.50529986],\n",
       "        [ 0.        ,  0.00185973, -0.45087711],\n",
       "        [ 0.        ,  0.        ,  1.        ]]),\n",
       " array([[ 0.00189753,  0.        , -0.4857685 ],\n",
       "        [ 0.        , -0.00189753,  0.4857685 ],\n",
       "        [ 0.        ,  0.        , -1.        ]]),\n",
       " array([[ 0.00189753,  0.        ,  0.4857685 ],\n",
       "        [ 0.        ,  0.00189753, -0.4857685 ],\n",
       "        [ 0.        ,  0.        ,  1.        ]]),\n",
       " array([[ 0.00189753,  0.        , -0.4857685 ],\n",
       "        [ 0.        , -0.00189753,  0.4857685 ],\n",
       "        [ 0.        ,  0.        , -1.        ]]),\n",
       " array([[ 0.00186171,  0.        ,  0.50529986],\n",
       "        [ 0.        , -0.00185973,  0.45087711],\n",
       "        [ 0.        ,  0.        , -1.        ]]),\n",
       " array([[1.00000000e+00, 0.00000000e+00, 5.68434189e-14],\n",
       "        [0.00000000e+00, 1.00000000e+00, 0.00000000e+00],\n",
       "        [0.00000000e+00, 0.00000000e+00, 1.00000000e+00]]))"
      ]
     },
     "execution_count": 82,
     "metadata": {},
     "output_type": "execute_result"
    }
   ],
   "source": [
    "focal = 527\n",
    "width=height=512\n",
    "\n",
    "k_zju = np.array([[537.14068604,   0.        , 271.41711426],\n",
    "       [  0.        , 537.71148682, 242.44180298],\n",
    "       [  0.        ,   0.        ,   1.        ]])\n",
    "\n",
    "k = np.array([\n",
    "      [1./focal, 0, -.5 * width / focal],\n",
    "      [0, -1./focal, .5 * height / focal],\n",
    "      [0, 0, -1.],\n",
    "  ])\n",
    "kneg = np.array([\n",
    "      [1./focal, 0, .5 * width / focal],\n",
    "      [0, 1./focal, -.5 * height / focal],\n",
    "      [0, 0, 1.],\n",
    "  ])\n",
    "\n",
    "neg = np.array([\n",
    "      [1., 0, 0],\n",
    "      [0, -1., 0],\n",
    "      [0, 0, -1.],\n",
    "  ])\n",
    "\n",
    "np.linalg.inv(k_zju), k, kneg, np.matmul(kneg, neg), np.matmul(np.linalg.inv(k_zju), neg), np.matmul(k_zju, np.linalg.inv(k_zju))"
   ]
  },
  {
   "cell_type": "code",
   "execution_count": 38,
   "metadata": {},
   "outputs": [],
   "source": [
    "## actual inv_K for ZJU\n",
    "DeviceArray([[ 0.00186171,  0.        ,  0.50529987],\n",
    "             [ 0.        , -0.00185973,  0.4508771 ],\n",
    "             [ 0.        ,  0.        , -1.        ]], dtype=float32)\n"
   ]
  },
  {
   "cell_type": "code",
   "execution_count": 61,
   "metadata": {},
   "outputs": [
    {
     "data": {
      "text/plain": [
       "array([[ 0.00186171,  0.        ,  0.50529982],\n",
       "       [ 0.        , -0.00185973,  0.4508771 ],\n",
       "       [ 0.        ,  0.        , -1.        ]])"
      ]
     },
     "execution_count": 61,
     "metadata": {},
     "output_type": "execute_result"
    }
   ],
   "source": [
    "inverse_y_mul = np.array([\n",
    "      [1., 0, 0],\n",
    "      [0, -1., 0],\n",
    "      [0, 0, -1.],\n",
    "    ])\n",
    "K_zju = np.asarray([[537.1407,   0.0000, 271.4171],\n",
    "            [  0.0000, 537.7115, 242.4418],\n",
    "            [  0.0000,   0.0000,   1.0000]])\n",
    "inv_K = np.linalg.inv(K_zju)\n",
    "# st()\n",
    "np.matmul(inv_K, inverse_y_mul)"
   ]
  },
  {
   "cell_type": "code",
   "execution_count": 43,
   "metadata": {},
   "outputs": [
    {
     "data": {
      "text/plain": [
       "tensor([True])"
      ]
     },
     "execution_count": 43,
     "metadata": {},
     "output_type": "execute_result"
    }
   ],
   "source": [
    "torch.unique(kt==kf)"
   ]
  },
  {
   "cell_type": "code",
   "execution_count": 74,
   "metadata": {},
   "outputs": [
    {
     "data": {
      "text/plain": [
       "(tensor([[ 1.,  0.,  0.],\n",
       "         [ 0., -1.,  0.],\n",
       "         [ 0.,  0., -1.]], dtype=torch.float64),\n",
       " tensor([True]))"
      ]
     },
     "execution_count": 74,
     "metadata": {},
     "output_type": "execute_result"
    }
   ],
   "source": [
    "xyz = torch.rand(10,10,3,1)\n",
    "xyz1 = xyz.clone()\n",
    "xyz1[...,1:,:] = xyz1[...,1:,:]*(-1)\n",
    "xyz2 = torch.matmul(torch.tensor(neg).float(), xyz.float())\n",
    "torch.tensor(neg), torch.unique(xyz2==xyz1)"
   ]
  },
  {
   "cell_type": "code",
   "execution_count": 80,
   "metadata": {},
   "outputs": [
    {
     "data": {
      "text/plain": [
       "tensor([True])"
      ]
     },
     "execution_count": 80,
     "metadata": {},
     "output_type": "execute_result"
    }
   ],
   "source": [
    "xyz3 = torch.matmul(torch.matmul(torch.tensor(k_zju).float(), torch.tensor(neg).float()), xyz.float())\n",
    "xyz4 = torch.matmul(torch.tensor(k_zju).float(), xyz2)\n",
    "torch.unique(xyz3==xyz4)"
   ]
  },
  {
   "cell_type": "code",
   "execution_count": null,
   "metadata": {},
   "outputs": [],
   "source": []
  }
 ],
 "metadata": {
  "kernelspec": {
   "display_name": "mobilehuman2",
   "language": "python",
   "name": "python3"
  },
  "language_info": {
   "codemirror_mode": {
    "name": "ipython",
    "version": 3
   },
   "file_extension": ".py",
   "mimetype": "text/x-python",
   "name": "python",
   "nbconvert_exporter": "python",
   "pygments_lexer": "ipython3",
   "version": "3.9.13"
  },
  "orig_nbformat": 4,
  "vscode": {
   "interpreter": {
    "hash": "812f86583856573ab981e32e0a4ea253908313fe37e9e80b0fe78dee9f3a443d"
   }
  }
 },
 "nbformat": 4,
 "nbformat_minor": 2
}
